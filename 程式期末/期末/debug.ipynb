{
 "cells": [
  {
   "cell_type": "code",
   "execution_count": 10,
   "metadata": {},
   "outputs": [
    {
     "name": "stdout",
     "output_type": "stream",
     "text": [
      "\n",
      "記錄完成，以下是您的記錄:\n",
      "{'type': 'expense', 'date': '20050825', 'category': '食', 'amount': 500.0, 'note': '20'}\n"
     ]
    }
   ],
   "source": [
    "if category >= len(categoreys):#收入選項的選擇是否超出\n",
    "    print(\"請輸入正確的選項。\")\n",
    "else:\n",
    "    date = input(\"請輸入日期(YYYY/MM/DD): \")#輸入日期\n",
    "\n",
    "    amount = float(input(\"請輸入金額: \"))#輸入金額\n",
    "\n",
    "    note = input(\"請輸入備註: \")#輸入備註\n",
    "\n",
    "    transaction_data = {                        #將資料放入陣列中\n",
    "        'type': modes[transaction_type],        #支出/收入選項\n",
    "        'date': date,                           #日期\n",
    "        'category': categoreys[category],       #種類\n",
    "        'amount': amount,                       #金額\n",
    "        'note': note                            #備註\n",
    "    }\n",
    "    print(\"\\n記錄完成，以下是您的記錄:\")\n",
    "    print(transaction_data)"
   ]
  },
  {
   "cell_type": "code",
   "execution_count": 9,
   "metadata": {},
   "outputs": [],
   "source": [
    "        transaction_type = input_check.check((input(\"select:\")))#檢查輸入是否要退出，輸入是否是數字，如果是數字，回傳\n"
   ]
  },
  {
   "cell_type": "code",
   "execution_count": 6,
   "metadata": {},
   "outputs": [],
   "source": [
    "category = input_check.check((input(\"select:\")))#檢查輸入是否要退出，輸入是否是數字，如過是數字，回傳\n"
   ]
  },
  {
   "cell_type": "code",
   "execution_count": 1,
   "metadata": {},
   "outputs": [],
   "source": [
    "import input_check #檢查輸入是否要退出，輸入是否是數字，如果是數字，回傳\n",
    "import print_option #輸出有甚麼功能\n",
    "import select_over #檢查輸入是否有誤\n"
   ]
  },
  {
   "cell_type": "code",
   "execution_count": 3,
   "metadata": {},
   "outputs": [],
   "source": [
    "categoreys = ['print \"re\" to return\\nprint \"exit\" to quit', '食', '衣', '住', '行', '娛樂', '其他']#支出選項\n"
   ]
  },
  {
   "cell_type": "code",
   "execution_count": 4,
   "metadata": {},
   "outputs": [],
   "source": [
    "\n",
    "modes = ['print \"re\" to return\\nprint \"exit\" to quit', 'expense', 'income']#記帳功能清單\n"
   ]
  }
 ],
 "metadata": {
  "kernelspec": {
   "display_name": "Python 3",
   "language": "python",
   "name": "python3"
  },
  "language_info": {
   "codemirror_mode": {
    "name": "ipython",
    "version": 3
   },
   "file_extension": ".py",
   "mimetype": "text/x-python",
   "name": "python",
   "nbconvert_exporter": "python",
   "pygments_lexer": "ipython3",
   "version": "3.11.7"
  }
 },
 "nbformat": 4,
 "nbformat_minor": 2
}
